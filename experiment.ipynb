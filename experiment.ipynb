{
 "cells": [
  {
   "cell_type": "code",
   "execution_count": 4,
   "metadata": {},
   "outputs": [
    {
     "name": "stdout",
     "output_type": "stream",
     "text": [
      "fashion mnist called\n"
     ]
    }
   ],
   "source": [
    "import torch\n",
    "import torch.nn as nn\n",
    "import torch.optim as optim\n",
    "import torch.nn.functional as F\n",
    "import torch.backends.cudnn as cudnn\n",
    "import torchvision\n",
    "import os\n",
    "import argparse\n",
    "\n",
    "from pathlib import Path\n",
    "import tqdm\n",
    "#import dataloaders\n",
    "from dataloader.cifar10 import CIFAR10\n",
    "from dataloader.fashion_mnist import FashionMNIST\n",
    "from dataloader.cifar_fashmnist import CIFAR_FASHMNIST"
   ]
  },
  {
   "cell_type": "code",
   "execution_count": 8,
   "metadata": {},
   "outputs": [
    {
     "name": "stdout",
     "output_type": "stream",
     "text": [
      "cifar called\n",
      "fetching default transform\n",
      "self.class_to_idx {'airplane': 0, 'automobile': 1, 'bird': 2, 'cat': 3, 'deer': 4, 'dog': 5, 'frog': 6, 'horse': 7, 'ship': 8, 'truck': 9}\n",
      "fashion mnist called\n",
      "fetching default transform\n",
      "cifar called\n",
      "fetching default transform\n",
      "self.class_to_idx {'airplane': 0, 'automobile': 1, 'bird': 2, 'cat': 3, 'deer': 4, 'dog': 5, 'frog': 6, 'horse': 7, 'ship': 8, 'truck': 9}\n",
      "fashion mnist called\n",
      "fetching default transform\n"
     ]
    }
   ],
   "source": [
    "#code to sample batch from two dataloaders\n",
    "# returns trainloader and two testloaders\n",
    "def get_dataloaders():\n",
    "    trainset_cifar = CIFAR10(data_root=\"dataset/cifar10\",\n",
    "                        transform=None,\n",
    "                        mode='train')\n",
    "    trainset_fashion_mnist = FashionMNIST(data_root=\"dataset/fashion-mnist\",\n",
    "                                            transform=None,\n",
    "                                            mode='train')\n",
    "    testset_cifar = CIFAR10(data_root=\"dataset/cifar10\",\n",
    "                            transform=None,\n",
    "                            mode='test')\n",
    "    testset_fashion_mnist = FashionMNIST(data_root=\"dataset/fashion-mnist\",\n",
    "                                            transform=None,\n",
    "                                            mode='test')\n",
    "    # create dataloaders\n",
    "    trainloader_cifar = torch.utils.data.DataLoader(\n",
    "        trainset_cifar, batch_size=16, shuffle=True, num_workers=2)\n",
    "    trainloader_fashion_mnist = torch.utils.data.DataLoader(\n",
    "        trainset_fashion_mnist, batch_size=16, shuffle=True, num_workers=2)\n",
    "    testloader_cifar = torch.utils.data.DataLoader(\n",
    "        testset_cifar, batch_size=16, shuffle=True, num_workers=2)\n",
    "    testloader_fashion_mnist = torch.utils.data.DataLoader(\n",
    "        testset_fashion_mnist, batch_size=16, shuffle=True, num_workers=2)\n",
    "    return trainloader_cifar,trainloader_fashion_mnist, testloader_cifar, testloader_fashion_mnist\n",
    "\n",
    "trainloader_cifar,trainloader_fashion_mnist, testloader_cifar, testloader_fashion_mnist = get_dataloaders()\n"
   ]
  },
  {
   "cell_type": "code",
   "execution_count": 12,
   "metadata": {},
   "outputs": [
    {
     "name": "stdout",
     "output_type": "stream",
     "text": [
      "3124\n"
     ]
    }
   ],
   "source": [
    "for batch_idx, (inputs, targets, _) in enumerate(trainloader_cifar):\n",
    "    1\n",
    "print(batch_idx)"
   ]
  },
  {
   "cell_type": "code",
   "execution_count": null,
   "metadata": {},
   "outputs": [],
   "source": []
  }
 ],
 "metadata": {
  "kernelspec": {
   "display_name": "Python 3",
   "language": "python",
   "name": "python3"
  },
  "language_info": {
   "codemirror_mode": {
    "name": "ipython",
    "version": 3
   },
   "file_extension": ".py",
   "mimetype": "text/x-python",
   "name": "python",
   "nbconvert_exporter": "python",
   "pygments_lexer": "ipython3",
   "version": "3.7.7"
  }
 },
 "nbformat": 4,
 "nbformat_minor": 4
}
